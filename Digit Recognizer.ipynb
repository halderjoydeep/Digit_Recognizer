{
 "cells": [
  {
   "cell_type": "markdown",
   "metadata": {},
   "source": [
    "<h1>Digit Recognizer Using Convolutional Neural Network</h1>"
   ]
  },
  {
   "cell_type": "code",
   "execution_count": 5,
   "metadata": {},
   "outputs": [],
   "source": [
    "import numpy as np\n",
    "import pandas as pd\n",
    "import matplotlib.pyplot as plt\n",
    "import matplotlib.image as mpimg\n",
    "import seaborn as sns\n",
    "%matplotlib inline\n",
    "\n",
    "np.random.seed(2)\n",
    "\n",
    "from sklearn.model_selection import train_test_split\n",
    "from sklearn.metrics import confusion_matrix\n",
    "import itertools\n",
    "\n",
    "from tensorflow.keras.utils import to_categorical\n",
    "from tensorflow.keras.models import Sequential\n",
    "from tensorflow.keras.layers import Dense, Dropout, Flatten, Conv2D, MaxPool2D\n",
    "from tensorflow.keras.optimizers import Adam\n",
    "from tensorflow.keras.preprocessing.image import ImageDataGenerator\n",
    "from tensorflow.keras.callbacks import ReduceLROnPlateau\n",
    "\n",
    "# Setting the seaborn style\n",
    "sns.set(style='white', context='notebook', palette='bright')"
   ]
  },
  {
   "cell_type": "code",
   "execution_count": 6,
   "metadata": {},
   "outputs": [],
   "source": [
    "# Load the Data\n",
    "train = pd.read_csv(\"train.csv\")\n",
    "test = pd.read_csv(\"test.csv\")"
   ]
  },
  {
   "cell_type": "code",
   "execution_count": 7,
   "metadata": {},
   "outputs": [
    {
     "data": {
      "image/png": "[encoded data removed]",
      "text/plain": [
       "<Figure size 432x288 with 1 Axes>"
      ]
     },
     "metadata": {},
     "output_type": "display_data"
    }
   ],
   "source": [
    "Y_train = train[\"label\"]\n",
    "\n",
    "# Drop 'label' column\n",
    "X_train = train.drop(labels = [\"label\"],axis = 1) \n",
    "\n",
    "# free some space\n",
    "del train \n",
    "\n",
    "g = sns.countplot(Y_train)"
   ]
  },
  {
   "cell_type": "code",
   "execution_count": 8,
   "metadata": {},
   "outputs": [],
   "source": [
    "# Normalizing the data\n",
    "X_train = X_train / 255.0\n",
    "test = test / 255.0"
   ]
  },
  {
   "cell_type": "code",
   "execution_count": 9,
   "metadata": {},
   "outputs": [],
   "source": [
    "# Reshape image in 3 dimensions (height = 28px, width = 28px , channel = 1)\n",
    "# -1 represents the no of examples\n",
    "X_train = X_train.values.reshape(-1,28,28,1)\n",
    "test = test.values.reshape(-1,28,28,1)"
   ]
  },
  {
   "cell_type": "code",
   "execution_count": 10,
   "metadata": {},
   "outputs": [],
   "source": [
    "# Encode labels to one hot vectors (ex : 1 -> [0,1,0,0,0,0,0,0,0,0])\n",
    "Y_train = to_categorical(Y_train, num_classes = 10)"
   ]
  },
  {
   "cell_type": "code",
   "execution_count": 11,
   "metadata": {},
   "outputs": [],
   "source": [
    "X_train, X_val, Y_train, Y_val = train_test_split(X_train, Y_train, test_size = 0.1, random_state=2)"
   ]
  },
  {
   "cell_type": "code",
   "execution_count": 12,
   "metadata": {},
   "outputs": [
    {
     "data": {
      "image/png": "[encoded data removed]",
      "text/plain": [
       "<Figure size 432x288 with 1 Axes>"
      ]
     },
     "metadata": {},
     "output_type": "display_data"
    }
   ],
   "source": [
    "# Showing Some examples from training set\n",
    "g = plt.imshow(X_train[0][:,:,0])"
   ]
  },
  {
   "cell_type": "code",
   "execution_count": 13,
   "metadata": {},
   "outputs": [],
   "source": [
    "# Define the CNN model \n",
    "# The CNN architechture is Input -> [[Conv2D->relu]*2 -> MaxPool2D -> Dropout]*2 -> Flatten -> Dense -> Dropout -> Output\n",
    "\n",
    "model = Sequential()\n",
    "\n",
    "model.add(Conv2D(filters = 32, kernel_size = (5,5),padding = 'Same', \n",
    "                 activation ='relu', input_shape = (28,28,1)))\n",
    "model.add(Conv2D(filters = 32, kernel_size = (5,5),padding = 'Same', \n",
    "                 activation ='relu'))\n",
    "model.add(MaxPool2D(pool_size=(2,2)))\n",
    "model.add(Dropout(0.25))\n",
    "\n",
    "\n",
    "model.add(Conv2D(filters = 64, kernel_size = (3,3),padding = 'Same', \n",
    "                 activation ='relu'))\n",
    "model.add(Conv2D(filters = 64, kernel_size = (3,3),padding = 'Same', \n",
    "                 activation ='relu'))\n",
    "model.add(MaxPool2D(pool_size=(2,2), strides=(2,2)))\n",
    "model.add(Dropout(0.25))\n",
    "\n",
    "\n",
    "model.add(Flatten())\n",
    "model.add(Dense(256, activation = \"relu\"))\n",
    "model.add(Dropout(0.5))\n",
    "model.add(Dense(10, activation = \"softmax\"))"
   ]
  },
  {
   "cell_type": "code",
   "execution_count": 14,
   "metadata": {},
   "outputs": [],
   "source": [
    "optimizer = Adam(learning_rate=0.001, beta_1=0.9, beta_2 = 0.999, epsilon=1e-07)"
   ]
  },
  {
   "cell_type": "code",
   "execution_count": 15,
   "metadata": {},
   "outputs": [],
   "source": [
    "model.compile(optimizer = optimizer , loss = \"categorical_crossentropy\", metrics=[\"accuracy\"])"
   ]
  },
  {
   "cell_type": "code",
   "execution_count": 16,
   "metadata": {},
   "outputs": [],
   "source": [
    "# Set annealer\n",
    "learning_rate_reduction = ReduceLROnPlateau(monitor='val_acc', \n",
    "                                            patience=3, \n",
    "                                            verbose=1, \n",
    "                                            factor=0.5, \n",
    "                                            min_lr=0.00001)"
   ]
  },
  {
   "cell_type": "code",
   "execution_count": 17,
   "metadata": {},
   "outputs": [],
   "source": [
    "datagen = ImageDataGenerator(\n",
    "        rotation_range=10, \n",
    "        zoom_range = 0.1,\n",
    "        width_shift_range=0.1,\n",
    "        height_shift_range=0.1\n",
    "        )\n",
    "\n",
    "datagen.fit(X_train)"
   ]
  },
  {
   "cell_type": "code",
   "execution_count": 18,
   "metadata": {},
   "outputs": [
    {
     "name": "stdout",
     "output_type": "stream",
     "text": [
      "Epoch 1/40\n",
      "439/439 - 63s - loss: 0.4152 - accuracy: 0.8654 - val_loss: 0.0609 - val_accuracy: 0.9833\n",
      "Epoch 2/40\n",
      "439/439 - 60s - loss: 0.1355 - accuracy: 0.9603 - val_loss: 0.0418 - val_accuracy: 0.9867\n",
      "Epoch 3/40\n",
      "439/439 - 61s - loss: 0.0991 - accuracy: 0.9715 - val_loss: 0.0326 - val_accuracy: 0.9902\n",
      "Epoch 4/40\n",
      "439/439 - 60s - loss: 0.0841 - accuracy: 0.9745 - val_loss: 0.0275 - val_accuracy: 0.9921\n",
      "Epoch 5/40\n",
      "439/439 - 60s - loss: 0.0731 - accuracy: 0.9788 - val_loss: 0.0307 - val_accuracy: 0.9912\n",
      "Epoch 6/40\n",
      "439/439 - 60s - loss: 0.0672 - accuracy: 0.9804 - val_loss: 0.0273 - val_accuracy: 0.9907\n",
      "Epoch 7/40\n",
      "439/439 - 61s - loss: 0.0600 - accuracy: 0.9822 - val_loss: 0.0244 - val_accuracy: 0.9905\n",
      "Epoch 8/40\n",
      "439/439 - 60s - loss: 0.0585 - accuracy: 0.9830 - val_loss: 0.0220 - val_accuracy: 0.9921\n",
      "Epoch 9/40\n",
      "439/439 - 60s - loss: 0.0510 - accuracy: 0.9851 - val_loss: 0.0233 - val_accuracy: 0.9933\n",
      "Epoch 10/40\n",
      "439/439 - 61s - loss: 0.0503 - accuracy: 0.9849 - val_loss: 0.0223 - val_accuracy: 0.9948\n",
      "Epoch 11/40\n",
      "439/439 - 62s - loss: 0.0489 - accuracy: 0.9855 - val_loss: 0.0200 - val_accuracy: 0.9938\n",
      "Epoch 12/40\n",
      "439/439 - 61s - loss: 0.0456 - accuracy: 0.9863 - val_loss: 0.0218 - val_accuracy: 0.9933\n",
      "Epoch 13/40\n",
      "439/439 - 61s - loss: 0.0462 - accuracy: 0.9866 - val_loss: 0.0196 - val_accuracy: 0.9936\n",
      "Epoch 14/40\n",
      "439/439 - 60s - loss: 0.0431 - accuracy: 0.9874 - val_loss: 0.0232 - val_accuracy: 0.9936\n",
      "Epoch 15/40\n",
      "439/439 - 60s - loss: 0.0442 - accuracy: 0.9868 - val_loss: 0.0221 - val_accuracy: 0.9921\n",
      "Epoch 16/40\n",
      "439/439 - 62s - loss: 0.0389 - accuracy: 0.9891 - val_loss: 0.0312 - val_accuracy: 0.9907\n",
      "Epoch 17/40\n",
      "439/439 - 60s - loss: 0.0385 - accuracy: 0.9881 - val_loss: 0.0162 - val_accuracy: 0.9940\n",
      "Epoch 18/40\n",
      "439/439 - 60s - loss: 0.0376 - accuracy: 0.9892 - val_loss: 0.0173 - val_accuracy: 0.9945\n",
      "Epoch 19/40\n",
      "439/439 - 60s - loss: 0.0392 - accuracy: 0.9881 - val_loss: 0.0206 - val_accuracy: 0.9933\n",
      "Epoch 20/40\n",
      "439/439 - 61s - loss: 0.0362 - accuracy: 0.9888 - val_loss: 0.0197 - val_accuracy: 0.9948\n",
      "Epoch 21/40\n",
      "439/439 - 60s - loss: 0.0324 - accuracy: 0.9900 - val_loss: 0.0159 - val_accuracy: 0.9945\n",
      "Epoch 22/40\n",
      "439/439 - 60s - loss: 0.0363 - accuracy: 0.9888 - val_loss: 0.0129 - val_accuracy: 0.9955\n",
      "Epoch 23/40\n",
      "439/439 - 60s - loss: 0.0324 - accuracy: 0.9904 - val_loss: 0.0195 - val_accuracy: 0.9943\n",
      "Epoch 24/40\n",
      "439/439 - 60s - loss: 0.0324 - accuracy: 0.9904 - val_loss: 0.0198 - val_accuracy: 0.9948\n",
      "Epoch 25/40\n",
      "439/439 - 60s - loss: 0.0337 - accuracy: 0.9895 - val_loss: 0.0192 - val_accuracy: 0.9938\n",
      "Epoch 26/40\n",
      "439/439 - 60s - loss: 0.0318 - accuracy: 0.9911 - val_loss: 0.0213 - val_accuracy: 0.9955\n",
      "Epoch 27/40\n",
      "439/439 - 61s - loss: 0.0340 - accuracy: 0.9898 - val_loss: 0.0223 - val_accuracy: 0.9945\n",
      "Epoch 28/40\n",
      "439/439 - 62s - loss: 0.0312 - accuracy: 0.9902 - val_loss: 0.0142 - val_accuracy: 0.9962\n",
      "Epoch 29/40\n",
      "439/439 - 60s - loss: 0.0278 - accuracy: 0.9919 - val_loss: 0.0227 - val_accuracy: 0.9945\n",
      "Epoch 30/40\n",
      "439/439 - 61s - loss: 0.0292 - accuracy: 0.9911 - val_loss: 0.0225 - val_accuracy: 0.9950\n",
      "Epoch 31/40\n",
      "439/439 - 60s - loss: 0.0284 - accuracy: 0.9914 - val_loss: 0.0159 - val_accuracy: 0.9952\n",
      "Epoch 32/40\n",
      "439/439 - 61s - loss: 0.0293 - accuracy: 0.9914 - val_loss: 0.0196 - val_accuracy: 0.9952\n",
      "Epoch 33/40\n",
      "439/439 - 62s - loss: 0.0308 - accuracy: 0.9900 - val_loss: 0.0174 - val_accuracy: 0.9957\n",
      "Epoch 34/40\n",
      "439/439 - 61s - loss: 0.0273 - accuracy: 0.9919 - val_loss: 0.0175 - val_accuracy: 0.9945\n",
      "Epoch 35/40\n",
      "439/439 - 61s - loss: 0.0274 - accuracy: 0.9917 - val_loss: 0.0162 - val_accuracy: 0.9962\n",
      "Epoch 36/40\n",
      "439/439 - 60s - loss: 0.0297 - accuracy: 0.9914 - val_loss: 0.0153 - val_accuracy: 0.9957\n",
      "Epoch 37/40\n",
      "439/439 - 62s - loss: 0.0289 - accuracy: 0.9918 - val_loss: 0.0208 - val_accuracy: 0.9940\n",
      "Epoch 38/40\n",
      "439/439 - 61s - loss: 0.0263 - accuracy: 0.9925 - val_loss: 0.0182 - val_accuracy: 0.9945\n",
      "Epoch 39/40\n",
      "439/439 - 60s - loss: 0.0253 - accuracy: 0.9925 - val_loss: 0.0196 - val_accuracy: 0.9948\n",
      "Epoch 40/40\n",
      "439/439 - 61s - loss: 0.0242 - accuracy: 0.9929 - val_loss: 0.0173 - val_accuracy: 0.9945\n"
     ]
    }
   ],
   "source": [
    "# Fit the model\n",
    "batch_size = 86\n",
    "history = model.fit_generator(datagen.flow(X_train,Y_train, batch_size=batch_size),\n",
    "                              epochs = 40, validation_data = (X_val,Y_val),\n",
    "                              verbose = 2, steps_per_epoch=X_train.shape[0] // batch_size\n",
    "                              )"
   ]
  },
  {
   "cell_type": "code",
   "execution_count": 19,
   "metadata": {},
   "outputs": [
    {
     "data": {
      "image/png": "[encoded data removed]",
      "text/plain": [
       "<Figure size 432x288 with 2 Axes>"
      ]
     },
     "metadata": {},
     "output_type": "display_data"
    }
   ],
   "source": [
    "# Plot the loss and accuracy curves for training and validation \n",
    "fig, ax = plt.subplots(2,1)\n",
    "ax[0].plot(history.history['loss'], color='b', label=\"Training loss\")\n",
    "ax[0].plot(history.history['val_loss'], color='r', label=\"validation loss\",axes =ax[0])\n",
    "legend = ax[0].legend(loc='best', shadow=True)\n",
    "\n",
    "ax[1].plot(history.history['accuracy'], color='b', label=\"Training accuracy\")\n",
    "ax[1].plot(history.history['val_accuracy'], color='r',label=\"Validation accuracy\")\n",
    "legend = ax[1].legend(loc='best', shadow=True)"
   ]
  },
  {
   "cell_type": "code",
   "execution_count": 20,
   "metadata": {},
   "outputs": [
    {
     "data": {
      "image/png": "[encoded data removed]",
      "text/plain": [
       "<Figure size 432x288 with 2 Axes>"
      ]
     },
     "metadata": {},
     "output_type": "display_data"
    }
   ],
   "source": [
    "def plot_confusion_matrix(cm, classes,\n",
    "                          normalize=False,\n",
    "                          title='Confusion matrix',\n",
    "                          cmap=plt.cm.Blues):\n",
    "    plt.imshow(cm, interpolation='nearest', cmap=cmap)\n",
    "    plt.title(title)\n",
    "    plt.colorbar()\n",
    "    tick_marks = np.arange(len(classes))\n",
    "    plt.xticks(tick_marks, classes, rotation=45)\n",
    "    plt.yticks(tick_marks, classes)\n",
    "\n",
    "    if normalize:\n",
    "        cm = cm.astype('float') / cm.sum(axis=1)[:, np.newaxis]\n",
    "\n",
    "    thresh = cm.max() / 2.\n",
    "    for i, j in itertools.product(range(cm.shape[0]), range(cm.shape[1])):\n",
    "        plt.text(j, i, cm[i, j],\n",
    "                 horizontalalignment=\"center\",\n",
    "                 color=\"white\" if cm[i, j] > thresh else \"black\")\n",
    "\n",
    "    plt.tight_layout()\n",
    "    plt.ylabel('True label')\n",
    "    plt.xlabel('Predicted label')\n",
    "\n",
    "# Predict the values from the validation dataset\n",
    "Y_pred = model.predict(X_val)\n",
    "# Convert predictions classes to one hot vectors \n",
    "Y_pred_classes = np.argmax(Y_pred,axis = 1) \n",
    "# Convert validation observations to one hot vectors\n",
    "Y_true = np.argmax(Y_val,axis = 1) \n",
    "# compute the confusion matrix\n",
    "confusion_mtx = confusion_matrix(Y_true, Y_pred_classes) \n",
    "# plot the confusion matrix\n",
    "plot_confusion_matrix(confusion_mtx, classes = range(10)) "
   ]
  },
  {
   "cell_type": "code",
   "execution_count": 32,
   "metadata": {},
   "outputs": [
    {
     "name": "stdout",
     "output_type": "stream",
     "text": [
      "[8]\n"
     ]
    },
    {
     "data": {
      "image/png": "[encoded data removed]",
      "text/plain": [
       "<Figure size 432x288 with 1 Axes>"
      ]
     },
     "metadata": {},
     "output_type": "display_data"
    }
   ],
   "source": [
    "test_img_index = 52\n",
    "plt.imshow(test[test_img_index][:,:,0])\n",
    "img = np.expand_dims(test[test_img_index], axis=0)\n",
    "pred = model.predict(img)\n",
    "pred_class = np.argmax(pred,axis = 1)\n",
    "print(pred_class)"
   ]
  }
 ],
 "metadata": {
  "kernelspec": {
   "display_name": "Python 3",
   "language": "python",
   "name": "python3"
  },
  "language_info": {
   "codemirror_mode": {
    "name": "ipython",
    "version": 3
   },
   "file_extension": ".py",
   "mimetype": "text/x-python",
   "name": "python",
   "nbconvert_exporter": "python",
   "pygments_lexer": "ipython3",
   "version": "3.7.5"
  }
 },
 "nbformat": 4,
 "nbformat_minor": 2
}
